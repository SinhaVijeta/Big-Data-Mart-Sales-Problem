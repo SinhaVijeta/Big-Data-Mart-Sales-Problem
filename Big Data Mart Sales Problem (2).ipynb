{
 "cells": [
  {
   "cell_type": "code",
   "execution_count": null,
   "id": "545a3304",
   "metadata": {},
   "outputs": [],
   "source": [
    "import numpy as np # linear algebra\n",
    "import pandas as pd # data processing\n",
    "import seaborn as sns\n",
    "import matplotlib.pyplot as plt\n",
    "import xgboost as xgb\n",
    "from scipy import stats\n",
    "\n",
    "\n",
    "import os\n",
    "for dirname, _, filenames in os.walk('/kaggle/input'):\n",
    "    for filename in filenames:\n",
    "        print(os.path.join(dirname, filename))"
   ]
  },
  {
   "cell_type": "code",
   "execution_count": null,
   "id": "d351b004",
   "metadata": {},
   "outputs": [],
   "source": [
    "import warnings\n",
    "warnings.filterwarnings(\"ignore\")"
   ]
  },
  {
   "cell_type": "code",
   "execution_count": null,
   "id": "231f1e26",
   "metadata": {},
   "outputs": [],
   "source": [
    "## Importing Datasets\n",
    "train_data =  pd.read_csv('https://raw.githubusercontent.com/dsrscientist/bigdatamart_rep/master/bigdatamart_Train.csv')\n",
    "test_data = pd.read_csv('https://raw.githubusercontent.com/dsrscientist/bigdatamart_rep/master/bigdatamart_Test.csv')"
   ]
  },
  {
   "cell_type": "code",
   "execution_count": null,
   "id": "5c909b43",
   "metadata": {},
   "outputs": [],
   "source": [
    "train_data.head()\n"
   ]
  },
  {
   "cell_type": "code",
   "execution_count": null,
   "id": "c86462b3",
   "metadata": {},
   "outputs": [],
   "source": [
    "test_data.head()"
   ]
  },
  {
   "cell_type": "code",
   "execution_count": null,
   "id": "bcf0ed6b",
   "metadata": {},
   "outputs": [],
   "source": [
    "print(train_data.shape)\n",
    "print(test_data.shape)"
   ]
  },
  {
   "cell_type": "code",
   "execution_count": null,
   "id": "aec92bbe",
   "metadata": {},
   "outputs": [],
   "source": [
    "train_data.describe().T"
   ]
  },
  {
   "cell_type": "code",
   "execution_count": null,
   "id": "a9773234",
   "metadata": {},
   "outputs": [],
   "source": [
    "train_data.isnull().sum()"
   ]
  },
  {
   "cell_type": "code",
   "execution_count": null,
   "id": "b845b73e",
   "metadata": {},
   "outputs": [],
   "source": [
    "test_data.isnull().sum()\n"
   ]
  },
  {
   "cell_type": "code",
   "execution_count": null,
   "id": "5a1c9713",
   "metadata": {},
   "outputs": [],
   "source": [
    "train_data['source'] = 'train'\n",
    "test_data['source'] = 'test'\n",
    "df = pd.concat([train_data,test_data], ignore_index=True)"
   ]
  },
  {
   "cell_type": "code",
   "execution_count": null,
   "id": "78c61452",
   "metadata": {},
   "outputs": [],
   "source": [
    "df.isnull().sum()"
   ]
  },
  {
   "cell_type": "code",
   "execution_count": null,
   "id": "90dcc875",
   "metadata": {},
   "outputs": [],
   "source": [
    "for i in train_data.describe().columns:\n",
    "    sns.distplot(train_data[i].dropna())\n",
    "    plt.show()"
   ]
  },
  {
   "cell_type": "code",
   "execution_count": null,
   "id": "07087533",
   "metadata": {},
   "outputs": [],
   "source": [
    "for i in train_data.describe().columns:\n",
    "    sns.boxplot(train_data[i].dropna())\n",
    "    plt.show()"
   ]
  },
  {
   "cell_type": "code",
   "execution_count": null,
   "id": "549d046a",
   "metadata": {},
   "outputs": [],
   "source": [
    "plt.figure(figsize=(15,10))\n",
    "sns.countplot(train_data.Item_Type)\n",
    "plt.xticks(rotation=90)"
   ]
  },
  {
   "cell_type": "code",
   "execution_count": null,
   "id": "78850ba2",
   "metadata": {},
   "outputs": [],
   "source": [
    "train_data.Item_Type.value_counts()"
   ]
  },
  {
   "cell_type": "code",
   "execution_count": null,
   "id": "d472381a",
   "metadata": {},
   "outputs": [],
   "source": [
    "#Distribution of the Outlet_Size\n",
    "plt.figure(figsize=(10,8))\n",
    "sns.countplot(train_data.Outlet_Size)\n",
    "plt.show()"
   ]
  },
  {
   "cell_type": "code",
   "execution_count": null,
   "id": "1bc91545",
   "metadata": {},
   "outputs": [],
   "source": [
    "#Distribution of the Outlet_Location_Type\n",
    "plt.figure(figsize=(10,8))\n",
    "sns.countplot(train_data.Outlet_Location_Type)"
   ]
  },
  {
   "cell_type": "code",
   "execution_count": null,
   "id": "4499397a",
   "metadata": {},
   "outputs": [],
   "source": [
    "train_data.Outlet_Location_Type.value_counts()"
   ]
  },
  {
   "cell_type": "code",
   "execution_count": null,
   "id": "02d790a2",
   "metadata": {},
   "outputs": [],
   "source": [
    "#Distribution of the Outlet_Type\n",
    "plt.figure(figsize=(10,8))\n",
    "sns.countplot(train_data.Outlet_Type)\n",
    "plt.xticks(rotation=90)"
   ]
  },
  {
   "cell_type": "code",
   "execution_count": null,
   "id": "5982d4dc",
   "metadata": {},
   "outputs": [],
   "source": [
    "train_data.Outlet_Type.value_counts()"
   ]
  },
  {
   "cell_type": "code",
   "execution_count": null,
   "id": "dba354d2",
   "metadata": {},
   "outputs": [],
   "source": [
    "\n",
    "plt.figure(figsize=(10,8))\n",
    "plt.xlabel(\"Item_Weight\")\n",
    "plt.ylabel(\"Item_Outlet_Sales\")\n",
    "plt.title(\"Itam Weight and Item Outlet Sales\")\n",
    "sns.scatterplot(x='Item_Weight', y='Item_Outlet_Sales', hue='Item_Type',size='Item_Weight',data=train_data)"
   ]
  },
  {
   "cell_type": "code",
   "execution_count": null,
   "id": "3d5588f3",
   "metadata": {},
   "outputs": [],
   "source": [
    "plt.figure(figsize=(13,9))\n",
    "plt.xlabel(\"Item_Visibility\")\n",
    "plt.ylabel(\"Item_Outlet_Sales\")\n",
    "plt.title(\"Item Visibility and Item Outlet Sales\",fontsize=15)\n",
    "sns.scatterplot(x=\"Item_Visibility\", y=\"Item_Outlet_Sales\", hue=\"Item_Type\", size= 'Item_Weight',data=train_data)"
   ]
  },
  {
   "cell_type": "code",
   "execution_count": null,
   "id": "2730528b",
   "metadata": {},
   "outputs": [],
   "source": [
    "plt.figure(figsize=(12,7))\n",
    "plt.xlabel(\"Item_visibility\")\n",
    "plt.ylabel(\"Maximum Retail Price\")\n",
    "plt.title(\"Item_visibility and Maximum Retail Price\")\n",
    "plt.plot(train_data.Item_Visibility, train_data.Item_MRP, \".\", alpha=0.3)"
   ]
  },
  {
   "cell_type": "code",
   "execution_count": null,
   "id": "8a404dd4",
   "metadata": {},
   "outputs": [],
   "source": [
    "Outlet_Type_pivot = train_data.pivot_table(index='Outlet_Type',values='Item_Outlet_Sales', aggfunc=np.median)\n",
    "\n",
    "Outlet_Type_pivot.plot(kind='bar', color='pink', figsize=(12,8))\n",
    "plt.xlabel(\"Outlet_Type\")\n",
    "plt.ylabel(\"Item_Outlet_Sales\")\n",
    "plt.title(\"Impact of Outlet_type on Item_Outlet_Sales\")\n",
    "plt.show()"
   ]
  },
  {
   "cell_type": "code",
   "execution_count": null,
   "id": "ee298b4c",
   "metadata": {},
   "outputs": [],
   "source": [
    "Item_Fat_Content_pivot = train_data.pivot_table(index='Item_Fat_Content', values='Item_Outlet_Sales', aggfunc=np.median)\n",
    "\n",
    "Item_Fat_Content_pivot.plot(kind='bar',color='green', figsize=(12,7))\n",
    "plt.xlabel(\"Item_Fat_Content\")\n",
    "plt.ylabel(\"Item_Outlet_Sales\")\n",
    "plt.title(\"Impact of Item_Fat_Content on Item_outlet_Sales\")\n",
    "plt.xticks(rotation=0)\n",
    "plt.show()"
   ]
  },
  {
   "cell_type": "code",
   "execution_count": null,
   "id": "871eb28f",
   "metadata": {},
   "outputs": [],
   "source": [
    "df['Item_Fat_Content'].value_counts()"
   ]
  },
  {
   "cell_type": "code",
   "execution_count": null,
   "id": "6d5cb594",
   "metadata": {},
   "outputs": [],
   "source": [
    "df['Item_Fat_Content'] = df['Item_Fat_Content'].replace({'LF':'Low Fat','reg':'Regular','low fat':'Low Fat'})"
   ]
  },
  {
   "cell_type": "code",
   "execution_count": null,
   "id": "90952ac4",
   "metadata": {},
   "outputs": [],
   "source": [
    "df['Item_Fat_Content'].value_counts()"
   ]
  },
  {
   "cell_type": "code",
   "execution_count": null,
   "id": "d6032aec",
   "metadata": {},
   "outputs": [],
   "source": [
    "train_data['Item_Fat_Content'] = train_data['Item_Fat_Content'].replace({'LF':'Low Fat','reg':'Regular','low fat':'Low Fat'})"
   ]
  },
  {
   "cell_type": "code",
   "execution_count": null,
   "id": "16766c8f",
   "metadata": {},
   "outputs": [],
   "source": [
    "Item_Fat_Content_pivot = train_data.pivot_table(index='Item_Fat_Content', values='Item_Outlet_Sales', aggfunc=np.median)\n",
    "\n",
    "Item_Fat_Content_pivot.plot(kind='bar',color='brown', figsize=(12,7))\n",
    "plt.xlabel(\"Item_Fat_Content\")\n",
    "plt.ylabel(\"Item_Outlet_Sales\")\n",
    "plt.title(\"Impact of Item_Fat_Content on Item_outlet_Sales\")\n",
    "plt.xticks(rotation=0)\n",
    "plt.show()"
   ]
  },
  {
   "cell_type": "code",
   "execution_count": null,
   "id": "0c6d85b6",
   "metadata": {},
   "outputs": [],
   "source": [
    "train_data.corr()"
   ]
  },
  {
   "cell_type": "code",
   "execution_count": null,
   "id": "5e033c35",
   "metadata": {},
   "outputs": [],
   "source": [
    "plt.figure(figsize=(35,15))\n",
    "sns.heatmap(train_data.corr(), vmax=1,square=True, cmap='viridis')\n",
    "plt.title(\"Correlation between different attributes\")"
   ]
  },
  {
   "cell_type": "code",
   "execution_count": null,
   "id": "7622f53b",
   "metadata": {},
   "outputs": [],
   "source": [
    "#Treating the missing values¶\n",
    "#Item_Weight-mean of the column\n",
    " \n",
    "df['Item_Weight'].mean()"
   ]
  },
  {
   "cell_type": "code",
   "execution_count": null,
   "id": "883df0a0",
   "metadata": {},
   "outputs": [],
   "source": [
    "df['Item_Weight'].fillna(df['Item_Weight'].mean(), inplace=True)"
   ]
  },
  {
   "cell_type": "code",
   "execution_count": null,
   "id": "0c5969be",
   "metadata": {},
   "outputs": [],
   "source": [
    "#Replacing the NaN values in the Outlet_Size column with Medium \n",
    "df.isnull().sum()"
   ]
  },
  {
   "cell_type": "code",
   "execution_count": null,
   "id": "1bcf025f",
   "metadata": {},
   "outputs": [],
   "source": [
    "df['Outlet_Size'].value_counts()"
   ]
  },
  {
   "cell_type": "code",
   "execution_count": null,
   "id": "e40a67d3",
   "metadata": {},
   "outputs": [],
   "source": [
    "df['Outlet_Size'].fillna(\"Medium\", inplace=True)\n"
   ]
  },
  {
   "cell_type": "code",
   "execution_count": null,
   "id": "d6998174",
   "metadata": {},
   "outputs": [],
   "source": [
    "df.isnull().sum()    ## now we dont have any null values"
   ]
  },
  {
   "cell_type": "code",
   "execution_count": null,
   "id": "d3d4d748",
   "metadata": {},
   "outputs": [],
   "source": [
    "print(train_data.shape)\n",
    "print(df.shape)"
   ]
  },
  {
   "cell_type": "code",
   "execution_count": null,
   "id": "89ab58c5",
   "metadata": {},
   "outputs": [],
   "source": [
    "#Item_Visibility\n",
    "df[df['Item_Visibility']==0]['Item_Visibility'].count()"
   ]
  },
  {
   "cell_type": "code",
   "execution_count": null,
   "id": "dd4aa4a7",
   "metadata": {},
   "outputs": [],
   "source": [
    "df['Item_Visibility'].fillna(df['Item_Visibility'].median(), inplace=True)  "
   ]
  },
  {
   "cell_type": "code",
   "execution_count": null,
   "id": "9452d097",
   "metadata": {},
   "outputs": [],
   "source": [
    "#Outlet Years\n",
    "df['Outlet_Establishment_Year'].value_counts()"
   ]
  },
  {
   "cell_type": "code",
   "execution_count": null,
   "id": "b1a7970f",
   "metadata": {},
   "outputs": [],
   "source": [
    "df['Outlet_Years'] = 2009 - df['Outlet_Establishment_Year']\n",
    "df['Outlet_Years'].describe()"
   ]
  },
  {
   "cell_type": "code",
   "execution_count": null,
   "id": "88b8c7b9",
   "metadata": {},
   "outputs": [],
   "source": [
    "#Item Type\n",
    "df['Item_Type'].value_counts()"
   ]
  },
  {
   "cell_type": "code",
   "execution_count": null,
   "id": "a8807707",
   "metadata": {},
   "outputs": [],
   "source": [
    "#These items are either Food, Drinks, or Non-Consumable\n",
    "df['Item_Identifier'].value_counts()"
   ]
  },
  {
   "cell_type": "code",
   "execution_count": null,
   "id": "86306d34",
   "metadata": {},
   "outputs": [],
   "source": [
    "##Changing only the first 2 characters (i,e the category ID)\n",
    "df['New_Item_Type'] = df['Item_Identifier'].apply(lambda x: x[0:2])"
   ]
  },
  {
   "cell_type": "code",
   "execution_count": null,
   "id": "aa32181f",
   "metadata": {},
   "outputs": [],
   "source": [
    "## Rename them to more intuitive categories::\n",
    "df['New_Item_Type'] = df['New_Item_Type'].map({'FD':'Food','NC':'Non_Consumable','DR':'Drinks'})\n",
    "\n",
    "df['New_Item_Type'].value_counts()"
   ]
  },
  {
   "cell_type": "code",
   "execution_count": null,
   "id": "b80b1b27",
   "metadata": {},
   "outputs": [],
   "source": [
    "#If a product is non-consumable then why associate a fat-content to that? we will get rid of this\n",
    "## Mark non-consumable as separate category in Low-fat.\n",
    "\n",
    "df.loc[df['New_Item_Type']==\"Non_Consumable\",\"Item_Fat_Content\"] = \"Non-Edible\"\n",
    "df['Item_Fat_Content'].value_counts()"
   ]
  },
  {
   "cell_type": "code",
   "execution_count": null,
   "id": "31be58cf",
   "metadata": {},
   "outputs": [],
   "source": [
    "item_visib_avg = df.pivot_table(values='Item_Visibility', index='Item_Identifier')"
   ]
  },
  {
   "cell_type": "code",
   "execution_count": null,
   "id": "13ee267b",
   "metadata": {},
   "outputs": [],
   "source": [
    "item_visib_avg"
   ]
  },
  {
   "cell_type": "code",
   "execution_count": null,
   "id": "64d58bdc",
   "metadata": {},
   "outputs": [],
   "source": [
    "#if a product more visible, then it's likely it eill be getting higher sales.\n",
    "function = lambda x: x['Item_Visibility']/item_visib_avg['Item_Visibility'][item_visib_avg.index==x['Item_Identifier']][0]\n",
    "\n",
    "df['item_visib_avg'] = df.apply(function, axis=1).astype(float)"
   ]
  },
  {
   "cell_type": "code",
   "execution_count": null,
   "id": "07337091",
   "metadata": {
    "scrolled": true
   },
   "outputs": [],
   "source": [
    "item_visib_avg"
   ]
  },
  {
   "cell_type": "code",
   "execution_count": null,
   "id": "91d6802a",
   "metadata": {},
   "outputs": [],
   "source": [
    "#LabelEncoder function\n",
    "from sklearn.preprocessing import LabelEncoder\n",
    "label = LabelEncoder()\n",
    "\n",
    "df['Outlet'] = label.fit_transform(df['Outlet_Identifier'])\n",
    "varib = ['Item_Fat_Content','Outlet_Location_Type', 'Outlet_Size','New_Item_Type','Outlet_Type','Outlet']\n",
    "\n",
    "for i in varib:\n",
    "    df[i] = label.fit_transform(df[i])"
   ]
  },
  {
   "cell_type": "code",
   "execution_count": null,
   "id": "e84d9272",
   "metadata": {},
   "outputs": [],
   "source": [
    "df.head()"
   ]
  },
  {
   "cell_type": "code",
   "execution_count": null,
   "id": "35a988a9",
   "metadata": {},
   "outputs": [],
   "source": [
    "#Model Building\n",
    "df.dtypes"
   ]
  },
  {
   "cell_type": "code",
   "execution_count": null,
   "id": "312a2bdb",
   "metadata": {},
   "outputs": [],
   "source": [
    "train_data = df.loc[df['source']=='train']\n",
    "test_data = df.loc[df['source']=='test']"
   ]
  },
  {
   "cell_type": "code",
   "execution_count": null,
   "id": "c303e995",
   "metadata": {},
   "outputs": [],
   "source": [
    "train_data.drop(['source'], axis=1,inplace=True)"
   ]
  },
  {
   "cell_type": "code",
   "execution_count": null,
   "id": "2a249113",
   "metadata": {},
   "outputs": [],
   "source": [
    "test_data.drop(['Item_Outlet_Sales','source'], axis=1,inplace=True)"
   ]
  },
  {
   "cell_type": "code",
   "execution_count": null,
   "id": "429ad4f4",
   "metadata": {},
   "outputs": [],
   "source": [
    "X_train = train_data.drop(['Item_Outlet_Sales','Item_Identifier','Outlet_Identifier'],axis=1).copy()\n",
    "y_train = train_data['Item_Outlet_Sales']\n",
    "X_test = test_data.drop(['Item_Identifier','Outlet_Identifier'], axis=1).copy()\n"
   ]
  },
  {
   "cell_type": "code",
   "execution_count": null,
   "id": "46960d53",
   "metadata": {},
   "outputs": [],
   "source": [
    "#Linear Regression\n",
    "from sklearn.linear_model import LinearRegression\n",
    "lr = LinearRegression(normalize=True)\n",
    "\n",
    "lr.fit(X_train , y_train)"
   ]
  },
  {
   "cell_type": "code",
   "execution_count": null,
   "id": "fa3a3087",
   "metadata": {},
   "outputs": [],
   "source": [
    "lr_pred = lr.predict(X_test)"
   ]
  },
  {
   "cell_type": "code",
   "execution_count": null,
   "id": "80c3e351",
   "metadata": {},
   "outputs": [],
   "source": [
    "lr_pred"
   ]
  },
  {
   "cell_type": "code",
   "execution_count": null,
   "id": "2b2a65bb",
   "metadata": {},
   "outputs": [],
   "source": [
    "lr_accuracy = round(lr.score(X_train,y_train) * 100)\n",
    "lr_accuracy"
   ]
  },
  {
   "cell_type": "code",
   "execution_count": null,
   "id": "4bed45e9",
   "metadata": {},
   "outputs": [],
   "source": [
    "#DecisionTreeRegressor\n",
    "from sklearn.tree import DecisionTreeRegressor\n",
    "tree = DecisionTreeRegressor(max_depth=15, min_samples_leaf=100)\n",
    "\n",
    "tree.fit(X_train,y_train)\n",
    "\n",
    "tree_pred = tree.predict(X_test)"
   ]
  },
  {
   "cell_type": "code",
   "execution_count": null,
   "id": "ea9e7f27",
   "metadata": {},
   "outputs": [],
   "source": [
    "tree_pred"
   ]
  },
  {
   "cell_type": "code",
   "execution_count": null,
   "id": "8ec8731c",
   "metadata": {},
   "outputs": [],
   "source": [
    "tree_accuracy = round(tree.score(X_train, y_train)*100)\n",
    "tree_accuracy"
   ]
  },
  {
   "cell_type": "code",
   "execution_count": null,
   "id": "2a99edf5",
   "metadata": {},
   "outputs": [],
   "source": [
    "#RandomForestRegressor\n",
    "from sklearn.ensemble import RandomForestRegressor\n",
    "\n",
    "rf = RandomForestRegressor(n_estimators=400, max_depth=6, min_samples_leaf = 100,n_jobs=4)\n",
    "\n",
    "rf.fit(X_train,y_train)\n",
    "\n",
    "rf_pred = rf.predict(X_test)\n",
    "\n",
    "rf_accuracy = round(rf.score(X_train,y_train) * 100)\n",
    "rf_accuracy"
   ]
  },
  {
   "cell_type": "code",
   "execution_count": null,
   "id": "f16fdf76",
   "metadata": {},
   "outputs": [],
   "source": [
    "#XGBoost Regressor\n",
    "from xgboost import XGBRegressor\n",
    "\n",
    "model = XGBRegressor(n_estimators=1000, learning_rate = 0.05)\n",
    "model.fit(X_train,y_train)"
   ]
  },
  {
   "cell_type": "code",
   "execution_count": null,
   "id": "0599167b",
   "metadata": {},
   "outputs": [],
   "source": [
    "pred = model.predict(X_test)\n",
    "pred"
   ]
  },
  {
   "cell_type": "code",
   "execution_count": null,
   "id": "2a4e1875",
   "metadata": {},
   "outputs": [],
   "source": [
    "model.score(X_train,y_train)*100"
   ]
  },
  {
   "cell_type": "code",
   "execution_count": null,
   "id": "5a911028",
   "metadata": {},
   "outputs": [],
   "source": []
  }
 ],
 "metadata": {
  "kernelspec": {
   "display_name": "Python 3 (ipykernel)",
   "language": "python",
   "name": "python3"
  },
  "language_info": {
   "codemirror_mode": {
    "name": "ipython",
    "version": 3
   },
   "file_extension": ".py",
   "mimetype": "text/x-python",
   "name": "python",
   "nbconvert_exporter": "python",
   "pygments_lexer": "ipython3",
   "version": "3.9.7"
  }
 },
 "nbformat": 4,
 "nbformat_minor": 5
}
